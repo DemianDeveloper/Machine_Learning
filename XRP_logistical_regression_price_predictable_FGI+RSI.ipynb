{
  "nbformat": 4,
  "nbformat_minor": 0,
  "metadata": {
    "colab": {
      "provenance": [],
      "authorship_tag": "ABX9TyPb5L+yZ6M9HM8LNsbNofVN",
      "include_colab_link": true
    },
    "kernelspec": {
      "name": "python3",
      "display_name": "Python 3"
    },
    "language_info": {
      "name": "python"
    }
  },
  "cells": [
    {
      "cell_type": "markdown",
      "metadata": {
        "id": "view-in-github",
        "colab_type": "text"
      },
      "source": [
        "<a href=\"https://colab.research.google.com/github/DemianDeveloper/Machine_Learning/blob/main/XRP_logistical_regression_price_predictable_FGI%2BRSI.ipynb\" target=\"_parent\"><img src=\"https://colab.research.google.com/assets/colab-badge.svg\" alt=\"Open In Colab\"/></a>"
      ]
    },
    {
      "cell_type": "markdown",
      "source": [
        "*прогноз движения XRP на основе индексов FGI(индекс страха и жадности) и RSI. расчёт сделан опираясь на последние 1300 дней*\n",
        "\n",
        "*выполнено путём создания модели машинного обучения (логистическая регрессия)*\n",
        "\n",
        "\n",
        "\n",
        "\n",
        "\n",
        "\n",
        "# ОПИСАНИЕ ИСПОЛЬЗУЕМЫХ ФУНКЦИЙ\n",
        "\n",
        "\n",
        "\n",
        "---\n",
        "\n",
        "\n",
        "\n",
        "\n",
        "\n",
        "\n",
        "\n",
        "\n",
        "Загрузка данных о Fear and Greed Index (FGI):\n",
        "API индекса FGI берём от сюда https://alternative.me/crypto/fear-and-greed-index/\n",
        "\n",
        "\n",
        "Функция parse_fgi(N) используется для загрузки данных о FGI с помощью API и возвращает список значений индекса.\n",
        "Параметр N указывает количество последних значений FGI для загрузки.\n",
        "\n",
        "Установка и подключение Ta-Lib:\n",
        "С помощью команд !wget, !tar, !./configure, !make, !make install устанавливаются и подключаются библиотеки Ta-Lib.\n",
        "Получение и обработка исторических данных о ценах:\n",
        "\n",
        "Функция parse_dates(N) используется для генерации списка дат на основе количества дней N.\n",
        "Функция parse_prices(coin, N) загружает исторические данные о ценах для указанной криптовалюты coin за последние N дней с помощью библиотеки yfinance.\n",
        "\n",
        "Вычисление индикаторов:\n",
        "Функция indicators(df, N) добавляет в DataFrame индикаторы, такие как Relative Strength Index (RSI) и Simple Moving Average (SMA), а также значения FGI.\n",
        "Построение корреляционной матрицы:\n",
        "\n",
        "Функция corr_matrix(df) строит корреляционную матрицу между ценами закрытия, RSI, FGI и SMA с помощью библиотеки seaborn.\n",
        "Построение графиков:\n",
        "\n",
        "Графики цен закрытия и индикаторов RSI, FGI и SMA строятся с использованием библиотеки matplotlib.\n",
        "\n",
        "Предварительная обработка данных:\n",
        "Функция preprocessing(df) производит предварительную обработку данных, такую как удаление нулевых значений и разделение данных на признаки (x), целевую переменную (y) и цены закрытия (p).\n",
        "\n",
        "# ПОЯСНЕНИЯ РАБОТЫ МОДЕЛИ\n",
        "---\n",
        "\n",
        "\n",
        "\n",
        "Обучение модели:\n",
        "Создается модель машинного обучения (логистическая регрессия) и обучается на данных при помощи функции ML(clf, X_train, X_test, Y_train, Y_test).\n",
        "\n",
        "Оценка результатов:\n",
        "Вычисляется точность предсказаний модели.\n",
        "\n",
        "Анализ сигналов и принятие решений:\n",
        "Сигналы от модели преобразуются в решения о покупке (1), продаже (-1) или удержании позиции (0).\n",
        "\n",
        "Построение графика с маркерами решений:\n",
        "График цен закрытия с маркерами для принятых решений (покупка - зеленый маркер, продажа - красный маркер) строится с использованием matplotlib.\n",
        "Каждая часть кода выполняет определенную задачу в процессе анализа данных и торговли на основе модели машинного обучения."
      ],
      "metadata": {
        "id": "XrLdhIwAjFQU"
      }
    },
    {
      "cell_type": "code",
      "execution_count": 3,
      "metadata": {
        "id": "he4TTiwkuKTi"
      },
      "outputs": [],
      "source": [
        "import requests"
      ]
    },
    {
      "cell_type": "code",
      "source": [
        "N = 1300 # Устанавливаем количество дней для загрузки данных FGI"
      ],
      "metadata": {
        "id": "nrlLr_5f12GL"
      },
      "execution_count": 2,
      "outputs": []
    },
    {
      "cell_type": "code",
      "source": [
        "# создаём функцию запроса FGI\n",
        "def parse_fgi(N):\n",
        "  url = 'https://api.alternative.me/fng/?format=csv&date_format=us'\n",
        "  parameters = {\n",
        "      'limit': N,\n",
        "      'format': 'json'\n",
        "  }\n",
        "\n",
        "  response = requests.get(url, params=parameters)\n",
        "  data = response.json()['data']\n",
        "  fgi_values = [float(i['value']) for i in data][::-1]\n",
        "\n",
        "  return fgi_values\n",
        "\n",
        "fgi_values = parse_fgi(N)# Получаем значения FGI"
      ],
      "metadata": {
        "id": "HSRRcrSz16NV"
      },
      "execution_count": 4,
      "outputs": []
    },
    {
      "cell_type": "code",
      "source": [
        "# Устанавливаем и подключаем Ta-Lib\n",
        "\n",
        "!wget http://prdownloads.sourceforge.net/ta-lib/ta-lib-0.4.0-src.tar.gz\n",
        "!tar -xzvf ta-lib-0.4.0-src.tar.gz\n",
        "%cd ta-lib\n",
        "!./configure --prefix=/usr\n",
        "!make\n",
        "!make install\n",
        "!pip install Ta-Lib"
      ],
      "metadata": {
        "id": "xnO98Log9Bhy"
      },
      "execution_count": null,
      "outputs": []
    },
    {
      "cell_type": "code",
      "source": [
        "from datetime import datetime, timedelta\n",
        "import pandas as pd\n",
        "import talib\n",
        "import numpy as np\n",
        "from talib import abstract\n",
        "import yfinance as yf\n"
      ],
      "metadata": {
        "id": "l6ky5utI924S"
      },
      "execution_count": 6,
      "outputs": []
    },
    {
      "cell_type": "code",
      "source": [
        "# Функция для генерации дат от даты N дней назад до текущей даты.\n",
        "\n",
        "def parse_dates(N):#объявление функции с именем parse_dates, которая принимает один аргумент N.\n",
        "  end_date = datetime.today()#Создает переменную end_date, содержащую текущую дату и время.\n",
        "  start_date = end_date - timedelta(days=N)# Вычитает из текущей даты N дней и сохраняет результат в переменной start_date. Таким образом, start_date будет N дней назад от текущей даты.\n",
        "  dates = pd.date_range(start=start_date, end=end_date)#Создает ряд дат в заданном диапазоне от start_date до end_date с помощью функции pd.date_range.\n",
        "  us_dates = dates.strftime('%Y-%m-%d').tolist()#Преобразует каждую дату из объекта dates в строку в формате %Y-%m-%d (год-месяц-день) и сохраняет их в виде списка строк с помощью метода strftime. Затем преобразует полученный объект в список с помощью метода tolist().\n",
        "\n",
        "  return us_dates\n",
        "\n"
      ],
      "metadata": {
        "id": "g42X1N5w-3C_"
      },
      "execution_count": 7,
      "outputs": []
    },
    {
      "cell_type": "code",
      "source": [
        "# Функция для загрузки исторических цен\n",
        "\n",
        "def parse_prices(coin, N):\n",
        "    period = parse_dates(N) # Вызывает функцию parse_dates с аргументом N для создания периода времени (списка дат) для запроса данных.\n",
        "    end_time = period[-1] # end_time = period[-1]: Устанавливает переменную end_time равной последней дате из периода времени period.\n",
        "    start_time = period[0] # Устанавливает переменную start_time равной первой дате из периода времени period.\n",
        "    data = yf.download(coin+'-USD', start_time, end_time)#Загружает исторические данные о ценах с использованием библиотеки yfinance.\n",
        "    data.rename(columns = {'Open': 'open',#Переименовывает столбцы данных. Здесь мы переименовываем столбцы 'Open', 'High', 'Close' и 'Volume' соответственно в 'open', 'high', 'close' и 'volume'. inplace=True означает, что изменения применяются к исходному DataFrame.\n",
        "                         'High': 'high',\n",
        "                         'Close': 'close',\n",
        "                         'Volume': 'volume'}, inplace =True)\n",
        "    return data\n",
        "\n",
        "# Получаем исторические данные о ценах для XRP\n",
        "data_prices = parse_prices('XRP', N)\n",
        "print(data_prices)\n"
      ],
      "metadata": {
        "id": "P0Gw6gNqfVJt"
      },
      "execution_count": null,
      "outputs": []
    },
    {
      "cell_type": "code",
      "source": [
        "# Функция для добавления индикаторов\n",
        "\n",
        "def indicators(df, N):# объявление функции с именем indicators, которая принимает два аргумента: df (DataFrame с данными о ценах) и N (количество дней).\n",
        "  df['rsi'] = abstract.RSI(df)# Добавляет столбец 'rsi' к DataFrame df, содержащий значения RSI. Функция abstract.RSI() вызывается для вычисления RSI на основе данных о ценах.\n",
        "  df['sma'] = abstract.SMA(df)\n",
        "  df['fgi'] = parse_fgi(N)\n",
        "  return df\n",
        "\n",
        "df = indicators(data_prices, N)# Добавляем индикаторы к данным о ценах\n",
        "df"
      ],
      "metadata": {
        "id": "W3WEowPPH92U"
      },
      "execution_count": null,
      "outputs": []
    },
    {
      "cell_type": "code",
      "source": [
        "import matplotlib.pyplot as plt\n",
        "import seaborn as sns"
      ],
      "metadata": {
        "id": "XvOWhANtbw09"
      },
      "execution_count": 10,
      "outputs": []
    },
    {
      "cell_type": "code",
      "source": [
        "# Функция для построения корреляционной матрицы\n",
        "def corr_matrix(df):\n",
        "    # Выбираем только нужные столбцы для анализа корреляции\n",
        "    df = df[['close', 'rsi', 'fgi', 'sma']]\n",
        "\n",
        "    # Вычисляем корреляционную матрицу с использованием метода Пирсона\n",
        "    corr_df = df.corr(method='pearson')\n",
        "\n",
        "    # Создаем объект \"фигура\" для рисования\n",
        "    plt.figure(figsize=(18, 10))\n",
        "\n",
        "    # Строим тепловую карту корреляционной матрицы с аннотациями\n",
        "    sns.heatmap(corr_df, cmap='bwr', annot=True)\n",
        "\n",
        "    # Показываем график\n",
        "    plt.show()\n",
        "\n",
        "# Вызываем функцию corr_matrix для DataFrame df\n",
        "corr_matrix(df)\n"
      ],
      "metadata": {
        "id": "oHwxVrDZb9zy"
      },
      "execution_count": null,
      "outputs": []
    },
    {
      "cell_type": "code",
      "source": [
        "# Создаем объект \"фигура\" и наборы осей с указанным количеством строк и столбцов\n",
        "fig, axes = plt.subplots(nrows=1, ncols=2, figsize=(18, 6))\n",
        "\n",
        "# Строим графики для столбцов 'close' и 'sma' на первой оси\n",
        "df[['close', 'sma']].plot(ax=axes[0], title='Close Prices & MA', xlabel='Date', ylabel='Value')\n",
        "\n",
        "# Строим графики для столбцов 'fgi' и 'rsi' на второй оси\n",
        "df[['fgi', 'rsi']].plot(ax=axes[1], title='RSI & FGI', xlabel='Date')\n",
        "\n",
        "# Показываем графики\n",
        "plt.show()\n"
      ],
      "metadata": {
        "id": "UL0Fz5WjlCLX"
      },
      "execution_count": null,
      "outputs": []
    },
    {
      "cell_type": "code",
      "source": [
        "# Создаем массив y, где 1 обозначает повышение цены, а 0 - понижение\n",
        "y = np.where(df['close'].shift(-1) > df['close'], 1, 0)\n",
        "\n",
        "# Добавляем столбец 'y' к DataFrame\n",
        "df['y'] = y\n",
        "\n",
        "# Создаем столбец 'p', который содержит значения цены закрытия\n",
        "df['p'] = df['close']\n",
        "\n",
        "# Выводим столбцы 'p' и 'y'\n",
        "df[['p', 'y']]\n"
      ],
      "metadata": {
        "id": "SiEWcfLcwP2l"
      },
      "execution_count": null,
      "outputs": []
    },
    {
      "cell_type": "code",
      "source": [
        "# Функция для предварительной обработки данных\n",
        "def preprocessing(df):\n",
        "    # Удаляем строки с пропущенными значениями\n",
        "    df.dropna(inplace=True)\n",
        "\n",
        "    # Определяем переменную x, содержащую признаки для обучения модели\n",
        "    x = df[['rsi', 'fgi', 'sma']]\n",
        "\n",
        "    # Определяем переменную y, содержащую целевую переменную\n",
        "    y = df[['y']]\n",
        "\n",
        "    # Определяем переменную p, содержащую цены закрытия\n",
        "    p = df[['p']]\n",
        "\n",
        "    return x, y, p\n",
        "\n",
        "# Вызываем функцию предварительной обработки данных\n",
        "x, y, p = preprocessing(df)\n",
        "\n",
        "# Выводим переменные x и y\n",
        "x, y\n"
      ],
      "metadata": {
        "id": "1IkS_rzdxaq3"
      },
      "execution_count": null,
      "outputs": []
    },
    {
      "cell_type": "code",
      "source": [
        "# Определяем процент данных для обучения\n",
        "percent_for_train = 0.7\n",
        "\n",
        "# Вычисляем количество строк, которые будут использоваться для обучения\n",
        "split = int(percent_for_train * len(x))\n",
        "\n",
        "# Разделяем данные на обучающие и тестовые\n",
        "X_train = x[:split]\n",
        "Y_train = y[:split]\n",
        "p_train = p[:split]\n",
        "\n",
        "X_test = x[:split]\n",
        "Y_test = y[:split]\n",
        "p_test = p[:split]\n",
        "\n",
        "# Выводим обучающие и тестовые данные\n",
        "[X_test, Y_test]\n"
      ],
      "metadata": {
        "id": "QcFPKQ9fyMz2"
      },
      "execution_count": null,
      "outputs": []
    },
    {
      "cell_type": "code",
      "source": [
        "from sklearn.preprocessing import StandardScaler\n",
        "from sklearn.linear_model import LogisticRegression\n",
        "from sklearn.tree import DecisionTreeClassifier\n",
        "from sklearn.svm import SVC\n",
        "from sklearn.metrics import accuracy_score"
      ],
      "metadata": {
        "id": "OQsxKkAwzCAd"
      },
      "execution_count": 16,
      "outputs": []
    },
    {
      "cell_type": "code",
      "source": [
        "model = LogisticRegression()"
      ],
      "metadata": {
        "id": "jsaG4_wvzj6l"
      },
      "execution_count": 17,
      "outputs": []
    },
    {
      "cell_type": "code",
      "source": [
        "# Определяем функцию для обучения и оценки модели\n",
        "def ML(clf, X_train, X_test, Y_train, Y_test):\n",
        "    # Обучаем модель\n",
        "    clf.fit(X_train, Y_train)\n",
        "\n",
        "    # Получаем прогнозы\n",
        "    preds = clf.predict(X_test)\n",
        "\n",
        "    # Вычисляем метрику точности\n",
        "    acc_score = accuracy_score(Y_test, preds)\n",
        "\n",
        "    return preds, acc_score\n",
        "\n",
        "# Обучаем модель и оцениваем её точность\n",
        "preds, accuracy_score = ML(model, X_train, X_test, Y_train, Y_test)\n",
        "accuracy_score\n"
      ],
      "metadata": {
        "colab": {
          "base_uri": "https://localhost:8080/"
        },
        "id": "XTTvXT05ztfz",
        "outputId": "ea92d026-7d07-4acb-d54e-4b5f2ec600ce"
      },
      "execution_count": 18,
      "outputs": [
        {
          "output_type": "stream",
          "name": "stderr",
          "text": [
            "/usr/local/lib/python3.10/dist-packages/sklearn/utils/validation.py:1143: DataConversionWarning: A column-vector y was passed when a 1d array was expected. Please change the shape of y to (n_samples, ), for example using ravel().\n",
            "  y = column_or_1d(y, warn=True)\n"
          ]
        },
        {
          "output_type": "execute_result",
          "data": {
            "text/plain": [
              "0.5230596175478065"
            ]
          },
          "metadata": {},
          "execution_count": 18
        }
      ]
    },
    {
      "cell_type": "markdown",
      "source": [
        "1 - цена пойдёт вверх\n",
        "0 - цена пойдёт вниз\n",
        "\n",
        "однако далее в коде преобразуем логику в следующую и теперь такая логика№:\n",
        "0 - удержание позиции\n",
        "1 - покупаем\n",
        "-1 - продаём"
      ],
      "metadata": {
        "id": "6yj9lt5ap_b5"
      }
    },
    {
      "cell_type": "code",
      "source": [
        "# Генерируем сигналы на основе прогнозов модели\n",
        "signals = []\n",
        "\n",
        "# Проходим по каждому прогнозу\n",
        "for pred in preds:\n",
        "    # Если прогноз равен 0, добавляем -1 в список сигналов\n",
        "    if pred == 0:\n",
        "        signals.append(-1)\n",
        "    # Если прогноз не равен 0, добавляем 1 в список сигналов\n",
        "    else:\n",
        "        signals.append(1)\n",
        "\n",
        "# Инициализируем начальную позицию\n",
        "position = 0\n",
        "\n",
        "# Создаем список решений\n",
        "decisions = []\n",
        "\n",
        "# Проходим по каждому сигналу\n",
        "for signal in signals:\n",
        "    # Если сигнал равен -1\n",
        "    if signal == -1:\n",
        "        # Если текущая позиция также равна -1, добавляем 0 в список решений\n",
        "        if position == -1:\n",
        "            decisions.append(0)\n",
        "        # Если текущая позиция не равна -1, добавляем -1 в список решений и обновляем текущую позицию\n",
        "        else:\n",
        "            decisions.append(signal)\n",
        "            position = signal\n",
        "    # Если сигнал не равен -1\n",
        "    else:\n",
        "        # Если текущая позиция равна 1\n",
        "        if position == 1:\n",
        "            decision = signal\n",
        "        # Если текущая позиция не равна 1, добавляем сигнал в список решений и обновляем текущую позицию\n",
        "        else:\n",
        "            decisions.append(signal)\n",
        "            position = signal\n",
        "\n",
        "# Подсчитываем количество положительных решений\n",
        "count = decisions.count(1)\n",
        "count\n"
      ],
      "metadata": {
        "colab": {
          "base_uri": "https://localhost:8080/"
        },
        "id": "98GiVBE51PyT",
        "outputId": "22dd41f0-dfb7-426c-d687-cf82e53aee50"
      },
      "execution_count": 24,
      "outputs": [
        {
          "output_type": "execute_result",
          "data": {
            "text/plain": [
              "32"
            ]
          },
          "metadata": {},
          "execution_count": 24
        }
      ]
    },
    {
      "cell_type": "code",
      "source": [
        "prices = p_test['p'].tolist()\n",
        "\n",
        "# Проверяем длины списков\n",
        "print(\"Длина списка решений:\", len(decisions))\n",
        "print(\"Длина списка цен:\", len(prices))\n",
        "print(\"Длина списка прогнозов:\", len(preds))\n",
        "print(\"Длина списка сигналов:\", len(signals))\n",
        "\n",
        "# Создаем DataFrame только если длины всех списков одинаковы\n",
        "if len(decisions) == len(prices) == len(preds) == len(signals):\n",
        "    # Создаем DataFrame с решениями, ценами, прогнозами и сигналами\n",
        "    back_test_df = pd.DataFrame({'decision': decisions, 'price': prices, 'signal': preds, 'signals0': signals}, index=x_test.index)\n",
        "    # Получаем даты из индекса\n",
        "    dates = x_test.index.tolist()\n",
        "    # Добавляем столбец даты и устанавливаем его как индекс\n",
        "    back_test_df['date'] = dates\n",
        "    back_test_df.set_index('date', inplace=True)\n",
        "    print(\"DataFrame успешно создан.\")\n",
        "else:\n",
        "    print(\"Длины списков не совпадают, невозможно создать DataFrame.\")\n",
        "\n"
      ],
      "metadata": {
        "colab": {
          "base_uri": "https://localhost:8080/"
        },
        "id": "vVGueFTtwrRX",
        "outputId": "025fa964-7255-494b-b3fc-31b6b8edf052"
      },
      "execution_count": 26,
      "outputs": [
        {
          "output_type": "stream",
          "name": "stdout",
          "text": [
            "Длина списка решений: 417\n",
            "Длина списка цен: 889\n",
            "Длина списка прогнозов: 889\n",
            "Длина списка сигналов: 889\n",
            "Длины списков не совпадают, невозможно создать DataFrame.\n"
          ]
        }
      ]
    },
    {
      "cell_type": "code",
      "source": [
        "prices = p_test['p'].tolist()\n",
        "\n",
        "# Используем только первые 417 элементов из списков с длиной 889\n",
        "prices = prices[:417]\n",
        "preds = preds[:417]\n",
        "signals = signals[:417]\n",
        "\n",
        "# Создаем DataFrame на основе первых 417 элементов из списков\n",
        "back_test_df = pd.DataFrame({'decision': decisions[:417], 'price': prices, 'signal': preds[:417], 'signals0': signals[:417]}, index=X_test.index[:417])\n",
        "# Добавляем столбец 'date' с индексом и устанавливаем его как индекс DataFrame\n",
        "back_test_df['date'] = back_test_df.index\n",
        "back_test_df.set_index('date', inplace=True)\n",
        "\n"
      ],
      "metadata": {
        "id": "7OoV2ZEVxLYh"
      },
      "execution_count": 29,
      "outputs": []
    },
    {
      "cell_type": "code",
      "source": [
        "# Сбрасываем индекс и переименовываем столбец 'index' в 'date'\n",
        "back_test_df.reset_index(inplace=True)\n",
        "back_test_df.rename(columns={'index': 'date'}, inplace=True)#Переименовывает столбец индекса в 'date'.\n",
        "\n",
        "# Построение графика цены актива с маркерами решений\n",
        "plt.figure(figsize=(10, 6))\n",
        "plt.plot(back_test_df['date'], back_test_df['price'], linestyle='-')# Строит линейный график цены актива по времени.\n",
        "\n",
        "for index, row in back_test_df.iterrows():\n",
        "    if row['decision'] == -1: #сли решение равно -1 (продажа), то\n",
        "        plt.plot(row['date'], row['price'], marker='o', color='red', markersize=5)#Рисует красный кружок маркера на графике в точке, где было принято решение о продаже.\n",
        "    elif row['decision'] == 1:\n",
        "        plt.plot(row['date'], row['price'], marker='o', color='green', markersize=5)\n",
        "\n",
        "plt.xlabel('Date')\n",
        "plt.ylabel('Price')\n",
        "plt.title('Price with Decision Markers')\n",
        "plt.grid(True)\n",
        "\n",
        "plt.show()\n",
        "\n"
      ],
      "metadata": {
        "id": "5LrMR9U0xw02"
      },
      "execution_count": null,
      "outputs": []
    }
  ]
}